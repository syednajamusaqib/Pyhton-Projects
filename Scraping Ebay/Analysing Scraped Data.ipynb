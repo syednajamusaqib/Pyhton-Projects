{
 "cells": [
  {
   "cell_type": "code",
   "execution_count": 180,
   "id": "cfe447b0",
   "metadata": {},
   "outputs": [],
   "source": [
    "import pandas as pd\n",
    "import numpy as np\n",
    "import seaborn as sn\n",
    "import matplotlib.pyplot as plt\n",
    "from bs4 import BeautifulSoup as bs\n",
    "import requests\n",
    "import warnings\n",
    "import openpyxl"
   ]
  },
  {
   "cell_type": "markdown",
   "id": "42168b5b",
   "metadata": {},
   "source": [
    "# Scraping Data from `Ebay` (Keyboards Data)"
   ]
  },
  {
   "cell_type": "code",
   "execution_count": null,
   "id": "b3bf5ee1",
   "metadata": {},
   "outputs": [],
   "source": [
    "excel = openpyxl.Workbook()\n",
    "sheet = excel.active\n",
    "sheet.tilte = \"Ebay Keyboards Data\"\n",
    "sheet.append([\"Name\",\"Condition\",\"Price\",\"Rating\",\"Shipping_cost\",\"Location\",\"Orders\",\"Seller\"])\n",
    "sheet"
   ]
  },
  {
   "cell_type": "code",
   "execution_count": null,
   "id": "5c9da967",
   "metadata": {},
   "outputs": [],
   "source": [
    "headers = {\"User-Agent\":\"Mozilla/5.0 (Windows NT 10.0; Win64; x64) AppleWebKit/537.36 (KHTML, like Gecko) Chrome/117.0.0.0 Safari/537.36\",\"Accept-Encoding\": \"gzip, deflate, br\",\"Accept\": \"text/html,application/xhtml+xml,application/xml;q=0.9,image/avif,image/webp,image/apng,*/*;q=0.8,application/signed-exchange;v=b3;q=0.7\"}\n",
    "r = requests.get(\"https://www.ebay.com/sch/i.html?_from=R40&_nkw=keyboards&_sacat=0&_pgn=18\",headers=headers)"
   ]
  },
  {
   "cell_type": "code",
   "execution_count": null,
   "id": "ce8ea893",
   "metadata": {},
   "outputs": [],
   "source": [
    "soup = bs(r.content,'html.parser')"
   ]
  },
  {
   "cell_type": "code",
   "execution_count": null,
   "id": "67457f65",
   "metadata": {},
   "outputs": [],
   "source": [
    "keyboard = soup.find(\"div\",id=\"srp-river-results\").find_all(\"li\")\n",
    "print(keyboard)"
   ]
  },
  {
   "cell_type": "code",
   "execution_count": null,
   "id": "de817d0c",
   "metadata": {},
   "outputs": [],
   "source": [
    "count = 0\n",
    "for item in keyboard:\n",
    "    try:\n",
    "        name = item.find(\"div\",class_=\"s-item__title\").find(\"span\",attrs={\"role\":\"heading\"}).get_text()\n",
    "        count+=1\n",
    "    except:\n",
    "        print(\"CAn't get\")\n",
    "    try:\n",
    "        condition = item.find(\"span\",class_=\"SECONDARY_INFO\").get_text()\n",
    "    except:\n",
    "        print(\"CAn't get\")\n",
    "    try:\n",
    "        price = item.find(\"div\",class_=\"s-item__details clearfix\").find(\"span\",class_=\"s-item__price\").get_text().split(' ')[0]\n",
    "    except:\n",
    "        print(\"CAn't get\")\n",
    "    try:\n",
    "        rating = item.find(\"span\",class_=\"s-item__seller-info-text\").get_text().split(\" \")[2]\n",
    "    except:\n",
    "        print(\"CAn't get\")\n",
    "    try:\n",
    "        orders = item.find(\"span\",class_=\"s-item__seller-info-text\").get_text().split(\" \")[1].strip(\"()\")\n",
    "    except:\n",
    "        print(\"CAn't get\")\n",
    "    try:\n",
    "        seller = item.find(\"span\",class_=\"s-item__seller-info-text\").get_text().split(\" \")[0]\n",
    "    except:\n",
    "        print(\"CAn't get\")\n",
    "    try:\n",
    "        shipping_cost = item.find(\"span\",class_=\"s-item__shipping s-item__logisticsCost\").get_text().split(\" \")[0]\n",
    "    except:\n",
    "        print(\"CAn't get\")\n",
    "    try:\n",
    "        location = item.find(\"span\",class_=\"s-item__location s-item__itemLocation\").get_text().split(\" \")[1]\n",
    "    except:\n",
    "        print(\"CAn't get\")\n",
    "    print(name,condition,price,rating,shipping_cost,location,orders,seller)\n",
    "    sheet.append([name,condition,price,rating,shipping_cost,location,orders,seller])\n",
    "    if(count>=60):\n",
    "        break\n",
    "excel.save(\"Ebay_Data1.xlsx\")"
   ]
  },
  {
   "cell_type": "code",
   "execution_count": 16,
   "id": "feb05ba2",
   "metadata": {},
   "outputs": [],
   "source": [
    "warnings.filterwarnings('ignore')"
   ]
  },
  {
   "cell_type": "code",
   "execution_count": 30,
   "id": "030260f6",
   "metadata": {},
   "outputs": [],
   "source": [
    "df = pd.read_excel('Ebay_Data1.xlsx')"
   ]
  },
  {
   "cell_type": "code",
   "execution_count": 32,
   "id": "2cacbb90",
   "metadata": {},
   "outputs": [
    {
     "data": {
      "text/plain": [
       "pandas.core.frame.DataFrame"
      ]
     },
     "execution_count": 32,
     "metadata": {},
     "output_type": "execute_result"
    }
   ],
   "source": [
    "type(df)"
   ]
  },
  {
   "cell_type": "code",
   "execution_count": 33,
   "id": "6fbe484e",
   "metadata": {},
   "outputs": [
    {
     "data": {
      "text/plain": [
       "Name             object\n",
       "Condition        object\n",
       "Price            object\n",
       "Rating           object\n",
       "Shipping_cost    object\n",
       "Location         object\n",
       "Orders           object\n",
       "Seller           object\n",
       "dtype: object"
      ]
     },
     "execution_count": 33,
     "metadata": {},
     "output_type": "execute_result"
    }
   ],
   "source": [
    "df.dtypes"
   ]
  },
  {
   "cell_type": "code",
   "execution_count": null,
   "id": "cdd63961",
   "metadata": {},
   "outputs": [],
   "source": [
    "type(df)"
   ]
  },
  {
   "cell_type": "markdown",
   "id": "9e44b994",
   "metadata": {},
   "source": [
    "## Cleaning `Price` Column"
   ]
  },
  {
   "cell_type": "code",
   "execution_count": 35,
   "id": "bee823cd",
   "metadata": {},
   "outputs": [],
   "source": [
    "df['Price'] = df['Price'].str.replace('$','')"
   ]
  },
  {
   "cell_type": "code",
   "execution_count": 36,
   "id": "9017d884",
   "metadata": {},
   "outputs": [
    {
     "data": {
      "text/html": [
       "<div>\n",
       "<style scoped>\n",
       "    .dataframe tbody tr th:only-of-type {\n",
       "        vertical-align: middle;\n",
       "    }\n",
       "\n",
       "    .dataframe tbody tr th {\n",
       "        vertical-align: top;\n",
       "    }\n",
       "\n",
       "    .dataframe thead th {\n",
       "        text-align: right;\n",
       "    }\n",
       "</style>\n",
       "<table border=\"1\" class=\"dataframe\">\n",
       "  <thead>\n",
       "    <tr style=\"text-align: right;\">\n",
       "      <th></th>\n",
       "      <th>Name</th>\n",
       "      <th>Condition</th>\n",
       "      <th>Price</th>\n",
       "      <th>Rating</th>\n",
       "      <th>Shipping_cost</th>\n",
       "      <th>Location</th>\n",
       "      <th>Orders</th>\n",
       "      <th>Seller</th>\n",
       "    </tr>\n",
       "  </thead>\n",
       "  <tbody>\n",
       "    <tr>\n",
       "      <th>0</th>\n",
       "      <td>2 x Universal UK Replacement Keyboard Stickers...</td>\n",
       "      <td>Brand New</td>\n",
       "      <td>4.73</td>\n",
       "      <td>99.6%</td>\n",
       "      <td>+$18.24</td>\n",
       "      <td>United</td>\n",
       "      <td>2,026</td>\n",
       "      <td>offthekeyboard</td>\n",
       "    </tr>\n",
       "    <tr>\n",
       "      <th>1</th>\n",
       "      <td>UK English Black Keycap Stickers QWERTY Keyboa...</td>\n",
       "      <td>Brand New</td>\n",
       "      <td>2.30</td>\n",
       "      <td>99.6%</td>\n",
       "      <td>+$18.24</td>\n",
       "      <td>United</td>\n",
       "      <td>2,026</td>\n",
       "      <td>offthekeyboard</td>\n",
       "    </tr>\n",
       "    <tr>\n",
       "      <th>2</th>\n",
       "      <td>Rii Mini X1 2.4G Wireless Mini Keyboard with ...</td>\n",
       "      <td>Brand New</td>\n",
       "      <td>15.29</td>\n",
       "      <td>99%</td>\n",
       "      <td>Free</td>\n",
       "      <td>China</td>\n",
       "      <td>17,326</td>\n",
       "      <td>xsmartbuying</td>\n",
       "    </tr>\n",
       "    <tr>\n",
       "      <th>3</th>\n",
       "      <td>104 Pcs Mechanical Keyboard Keycaps Set OEM Ba...</td>\n",
       "      <td>Brand New</td>\n",
       "      <td>5.99</td>\n",
       "      <td>94.4%</td>\n",
       "      <td>+$3.00</td>\n",
       "      <td>China</td>\n",
       "      <td>413</td>\n",
       "      <td>baicaijaa</td>\n",
       "    </tr>\n",
       "    <tr>\n",
       "      <th>4</th>\n",
       "      <td>USB WIRED STYLISH SLIM QWERTY KEYBOARD UK LAYO...</td>\n",
       "      <td>Brand New</td>\n",
       "      <td>8.21</td>\n",
       "      <td>99.2%</td>\n",
       "      <td>+$45.01</td>\n",
       "      <td>United</td>\n",
       "      <td>453,971</td>\n",
       "      <td>foido</td>\n",
       "    </tr>\n",
       "  </tbody>\n",
       "</table>\n",
       "</div>"
      ],
      "text/plain": [
       "                                                Name  Condition  Price Rating  \\\n",
       "0  2 x Universal UK Replacement Keyboard Stickers...  Brand New   4.73  99.6%   \n",
       "1  UK English Black Keycap Stickers QWERTY Keyboa...  Brand New   2.30  99.6%   \n",
       "2   Rii Mini X1 2.4G Wireless Mini Keyboard with ...  Brand New  15.29    99%   \n",
       "3  104 Pcs Mechanical Keyboard Keycaps Set OEM Ba...  Brand New   5.99  94.4%   \n",
       "4  USB WIRED STYLISH SLIM QWERTY KEYBOARD UK LAYO...  Brand New   8.21  99.2%   \n",
       "\n",
       "  Shipping_cost Location   Orders          Seller  \n",
       "0       +$18.24   United    2,026  offthekeyboard  \n",
       "1       +$18.24   United    2,026  offthekeyboard  \n",
       "2          Free    China   17,326    xsmartbuying  \n",
       "3        +$3.00    China      413       baicaijaa  \n",
       "4       +$45.01   United  453,971           foido  "
      ]
     },
     "execution_count": 36,
     "metadata": {},
     "output_type": "execute_result"
    }
   ],
   "source": [
    "df.head()"
   ]
  },
  {
   "cell_type": "code",
   "execution_count": 41,
   "id": "37f96e69",
   "metadata": {},
   "outputs": [
    {
     "data": {
      "text/plain": [
       "0       4.73\n",
       "1       2.30\n",
       "2      15.29\n",
       "3       5.99\n",
       "4       8.21\n",
       "       ...  \n",
       "955     3.03\n",
       "956     8.22\n",
       "957    24.33\n",
       "958    14.99\n",
       "959    17.95\n",
       "Name: Price, Length: 960, dtype: float64"
      ]
     },
     "execution_count": 41,
     "metadata": {},
     "output_type": "execute_result"
    }
   ],
   "source": [
    "df['Price'] = pd.to_numeric(df['Price'])\n",
    "df['Price']"
   ]
  },
  {
   "cell_type": "code",
   "execution_count": 43,
   "id": "a3e95ccc",
   "metadata": {},
   "outputs": [
    {
     "name": "stdout",
     "output_type": "stream",
     "text": [
      "<class 'pandas.core.frame.DataFrame'>\n",
      "RangeIndex: 960 entries, 0 to 959\n",
      "Data columns (total 8 columns):\n",
      " #   Column         Non-Null Count  Dtype  \n",
      "---  ------         --------------  -----  \n",
      " 0   Name           960 non-null    object \n",
      " 1   Condition      960 non-null    object \n",
      " 2   Price          960 non-null    float64\n",
      " 3   Rating         960 non-null    object \n",
      " 4   Shipping_cost  960 non-null    object \n",
      " 5   Location       960 non-null    object \n",
      " 6   Orders         960 non-null    object \n",
      " 7   Seller         960 non-null    object \n",
      "dtypes: float64(1), object(7)\n",
      "memory usage: 60.1+ KB\n"
     ]
    }
   ],
   "source": [
    "df.info()"
   ]
  },
  {
   "cell_type": "code",
   "execution_count": 44,
   "id": "4a3309b4",
   "metadata": {},
   "outputs": [
    {
     "data": {
      "text/html": [
       "<div>\n",
       "<style scoped>\n",
       "    .dataframe tbody tr th:only-of-type {\n",
       "        vertical-align: middle;\n",
       "    }\n",
       "\n",
       "    .dataframe tbody tr th {\n",
       "        vertical-align: top;\n",
       "    }\n",
       "\n",
       "    .dataframe thead th {\n",
       "        text-align: right;\n",
       "    }\n",
       "</style>\n",
       "<table border=\"1\" class=\"dataframe\">\n",
       "  <thead>\n",
       "    <tr style=\"text-align: right;\">\n",
       "      <th></th>\n",
       "      <th>Price</th>\n",
       "    </tr>\n",
       "  </thead>\n",
       "  <tbody>\n",
       "    <tr>\n",
       "      <th>count</th>\n",
       "      <td>960.000000</td>\n",
       "    </tr>\n",
       "    <tr>\n",
       "      <th>mean</th>\n",
       "      <td>34.301396</td>\n",
       "    </tr>\n",
       "    <tr>\n",
       "      <th>std</th>\n",
       "      <td>50.072692</td>\n",
       "    </tr>\n",
       "    <tr>\n",
       "      <th>min</th>\n",
       "      <td>1.500000</td>\n",
       "    </tr>\n",
       "    <tr>\n",
       "      <th>25%</th>\n",
       "      <td>9.950000</td>\n",
       "    </tr>\n",
       "    <tr>\n",
       "      <th>50%</th>\n",
       "      <td>19.990000</td>\n",
       "    </tr>\n",
       "    <tr>\n",
       "      <th>75%</th>\n",
       "      <td>39.992500</td>\n",
       "    </tr>\n",
       "    <tr>\n",
       "      <th>max</th>\n",
       "      <td>669.500000</td>\n",
       "    </tr>\n",
       "  </tbody>\n",
       "</table>\n",
       "</div>"
      ],
      "text/plain": [
       "            Price\n",
       "count  960.000000\n",
       "mean    34.301396\n",
       "std     50.072692\n",
       "min      1.500000\n",
       "25%      9.950000\n",
       "50%     19.990000\n",
       "75%     39.992500\n",
       "max    669.500000"
      ]
     },
     "execution_count": 44,
     "metadata": {},
     "output_type": "execute_result"
    }
   ],
   "source": [
    "df.describe()"
   ]
  },
  {
   "cell_type": "code",
   "execution_count": 45,
   "id": "864a8860",
   "metadata": {},
   "outputs": [
    {
     "data": {
      "text/plain": [
       "(960, 8)"
      ]
     },
     "execution_count": 45,
     "metadata": {},
     "output_type": "execute_result"
    }
   ],
   "source": [
    "df.shape"
   ]
  },
  {
   "cell_type": "code",
   "execution_count": 46,
   "id": "a850642f",
   "metadata": {},
   "outputs": [
    {
     "data": {
      "text/html": [
       "<div>\n",
       "<style scoped>\n",
       "    .dataframe tbody tr th:only-of-type {\n",
       "        vertical-align: middle;\n",
       "    }\n",
       "\n",
       "    .dataframe tbody tr th {\n",
       "        vertical-align: top;\n",
       "    }\n",
       "\n",
       "    .dataframe thead th {\n",
       "        text-align: right;\n",
       "    }\n",
       "</style>\n",
       "<table border=\"1\" class=\"dataframe\">\n",
       "  <thead>\n",
       "    <tr style=\"text-align: right;\">\n",
       "      <th></th>\n",
       "      <th>Name</th>\n",
       "      <th>Condition</th>\n",
       "      <th>Price</th>\n",
       "      <th>Rating</th>\n",
       "      <th>Shipping_cost</th>\n",
       "      <th>Location</th>\n",
       "      <th>Orders</th>\n",
       "      <th>Seller</th>\n",
       "    </tr>\n",
       "  </thead>\n",
       "  <tbody>\n",
       "    <tr>\n",
       "      <th>0</th>\n",
       "      <td>2 x Universal UK Replacement Keyboard Stickers...</td>\n",
       "      <td>Brand New</td>\n",
       "      <td>4.73</td>\n",
       "      <td>99.6%</td>\n",
       "      <td>+$18.24</td>\n",
       "      <td>United</td>\n",
       "      <td>2,026</td>\n",
       "      <td>offthekeyboard</td>\n",
       "    </tr>\n",
       "    <tr>\n",
       "      <th>1</th>\n",
       "      <td>UK English Black Keycap Stickers QWERTY Keyboa...</td>\n",
       "      <td>Brand New</td>\n",
       "      <td>2.30</td>\n",
       "      <td>99.6%</td>\n",
       "      <td>+$18.24</td>\n",
       "      <td>United</td>\n",
       "      <td>2,026</td>\n",
       "      <td>offthekeyboard</td>\n",
       "    </tr>\n",
       "    <tr>\n",
       "      <th>2</th>\n",
       "      <td>Rii Mini X1 2.4G Wireless Mini Keyboard with ...</td>\n",
       "      <td>Brand New</td>\n",
       "      <td>15.29</td>\n",
       "      <td>99%</td>\n",
       "      <td>Free</td>\n",
       "      <td>China</td>\n",
       "      <td>17,326</td>\n",
       "      <td>xsmartbuying</td>\n",
       "    </tr>\n",
       "    <tr>\n",
       "      <th>3</th>\n",
       "      <td>104 Pcs Mechanical Keyboard Keycaps Set OEM Ba...</td>\n",
       "      <td>Brand New</td>\n",
       "      <td>5.99</td>\n",
       "      <td>94.4%</td>\n",
       "      <td>+$3.00</td>\n",
       "      <td>China</td>\n",
       "      <td>413</td>\n",
       "      <td>baicaijaa</td>\n",
       "    </tr>\n",
       "    <tr>\n",
       "      <th>4</th>\n",
       "      <td>USB WIRED STYLISH SLIM QWERTY KEYBOARD UK LAYO...</td>\n",
       "      <td>Brand New</td>\n",
       "      <td>8.21</td>\n",
       "      <td>99.2%</td>\n",
       "      <td>+$45.01</td>\n",
       "      <td>United</td>\n",
       "      <td>453,971</td>\n",
       "      <td>foido</td>\n",
       "    </tr>\n",
       "  </tbody>\n",
       "</table>\n",
       "</div>"
      ],
      "text/plain": [
       "                                                Name  Condition  Price Rating  \\\n",
       "0  2 x Universal UK Replacement Keyboard Stickers...  Brand New   4.73  99.6%   \n",
       "1  UK English Black Keycap Stickers QWERTY Keyboa...  Brand New   2.30  99.6%   \n",
       "2   Rii Mini X1 2.4G Wireless Mini Keyboard with ...  Brand New  15.29    99%   \n",
       "3  104 Pcs Mechanical Keyboard Keycaps Set OEM Ba...  Brand New   5.99  94.4%   \n",
       "4  USB WIRED STYLISH SLIM QWERTY KEYBOARD UK LAYO...  Brand New   8.21  99.2%   \n",
       "\n",
       "  Shipping_cost Location   Orders          Seller  \n",
       "0       +$18.24   United    2,026  offthekeyboard  \n",
       "1       +$18.24   United    2,026  offthekeyboard  \n",
       "2          Free    China   17,326    xsmartbuying  \n",
       "3        +$3.00    China      413       baicaijaa  \n",
       "4       +$45.01   United  453,971           foido  "
      ]
     },
     "execution_count": 46,
     "metadata": {},
     "output_type": "execute_result"
    }
   ],
   "source": [
    "df.head()"
   ]
  },
  {
   "cell_type": "markdown",
   "id": "10f39924",
   "metadata": {},
   "source": [
    "## Cleaning `Rating` Column"
   ]
  },
  {
   "cell_type": "code",
   "execution_count": 49,
   "id": "74fde7f3",
   "metadata": {},
   "outputs": [
    {
     "data": {
      "text/plain": [
       "0      99.6\n",
       "1      99.6\n",
       "2        99\n",
       "3      94.4\n",
       "4      99.2\n",
       "       ... \n",
       "955    98.5\n",
       "956    96.6\n",
       "957    99.5\n",
       "958     100\n",
       "959    98.8\n",
       "Name: Rating, Length: 960, dtype: object"
      ]
     },
     "execution_count": 49,
     "metadata": {},
     "output_type": "execute_result"
    }
   ],
   "source": [
    "df['Rating'] = df['Rating'].str.replace('%','')\n",
    "df['Rating']"
   ]
  },
  {
   "cell_type": "code",
   "execution_count": 53,
   "id": "218ff0db",
   "metadata": {},
   "outputs": [],
   "source": [
    "df[\"Rating\"] = pd.to_numeric(df[\"Rating\"])"
   ]
  },
  {
   "cell_type": "code",
   "execution_count": 54,
   "id": "222d9967",
   "metadata": {},
   "outputs": [
    {
     "data": {
      "text/html": [
       "<div>\n",
       "<style scoped>\n",
       "    .dataframe tbody tr th:only-of-type {\n",
       "        vertical-align: middle;\n",
       "    }\n",
       "\n",
       "    .dataframe tbody tr th {\n",
       "        vertical-align: top;\n",
       "    }\n",
       "\n",
       "    .dataframe thead th {\n",
       "        text-align: right;\n",
       "    }\n",
       "</style>\n",
       "<table border=\"1\" class=\"dataframe\">\n",
       "  <thead>\n",
       "    <tr style=\"text-align: right;\">\n",
       "      <th></th>\n",
       "      <th>Price</th>\n",
       "      <th>Rating</th>\n",
       "    </tr>\n",
       "  </thead>\n",
       "  <tbody>\n",
       "    <tr>\n",
       "      <th>count</th>\n",
       "      <td>960.000000</td>\n",
       "      <td>960.000000</td>\n",
       "    </tr>\n",
       "    <tr>\n",
       "      <th>mean</th>\n",
       "      <td>34.301396</td>\n",
       "      <td>98.283750</td>\n",
       "    </tr>\n",
       "    <tr>\n",
       "      <th>std</th>\n",
       "      <td>50.072692</td>\n",
       "      <td>7.969708</td>\n",
       "    </tr>\n",
       "    <tr>\n",
       "      <th>min</th>\n",
       "      <td>1.500000</td>\n",
       "      <td>0.000000</td>\n",
       "    </tr>\n",
       "    <tr>\n",
       "      <th>25%</th>\n",
       "      <td>9.950000</td>\n",
       "      <td>98.500000</td>\n",
       "    </tr>\n",
       "    <tr>\n",
       "      <th>50%</th>\n",
       "      <td>19.990000</td>\n",
       "      <td>99.400000</td>\n",
       "    </tr>\n",
       "    <tr>\n",
       "      <th>75%</th>\n",
       "      <td>39.992500</td>\n",
       "      <td>100.000000</td>\n",
       "    </tr>\n",
       "    <tr>\n",
       "      <th>max</th>\n",
       "      <td>669.500000</td>\n",
       "      <td>100.000000</td>\n",
       "    </tr>\n",
       "  </tbody>\n",
       "</table>\n",
       "</div>"
      ],
      "text/plain": [
       "            Price      Rating\n",
       "count  960.000000  960.000000\n",
       "mean    34.301396   98.283750\n",
       "std     50.072692    7.969708\n",
       "min      1.500000    0.000000\n",
       "25%      9.950000   98.500000\n",
       "50%     19.990000   99.400000\n",
       "75%     39.992500  100.000000\n",
       "max    669.500000  100.000000"
      ]
     },
     "execution_count": 54,
     "metadata": {},
     "output_type": "execute_result"
    }
   ],
   "source": [
    "df.describe()"
   ]
  },
  {
   "cell_type": "code",
   "execution_count": 55,
   "id": "7daeb6dc",
   "metadata": {},
   "outputs": [
    {
     "data": {
      "text/html": [
       "<div>\n",
       "<style scoped>\n",
       "    .dataframe tbody tr th:only-of-type {\n",
       "        vertical-align: middle;\n",
       "    }\n",
       "\n",
       "    .dataframe tbody tr th {\n",
       "        vertical-align: top;\n",
       "    }\n",
       "\n",
       "    .dataframe thead th {\n",
       "        text-align: right;\n",
       "    }\n",
       "</style>\n",
       "<table border=\"1\" class=\"dataframe\">\n",
       "  <thead>\n",
       "    <tr style=\"text-align: right;\">\n",
       "      <th></th>\n",
       "      <th>Name</th>\n",
       "      <th>Condition</th>\n",
       "      <th>Price</th>\n",
       "      <th>Rating</th>\n",
       "      <th>Shipping_cost</th>\n",
       "      <th>Location</th>\n",
       "      <th>Orders</th>\n",
       "      <th>Seller</th>\n",
       "    </tr>\n",
       "  </thead>\n",
       "  <tbody>\n",
       "    <tr>\n",
       "      <th>0</th>\n",
       "      <td>2 x Universal UK Replacement Keyboard Stickers...</td>\n",
       "      <td>Brand New</td>\n",
       "      <td>4.73</td>\n",
       "      <td>99.6</td>\n",
       "      <td>+$18.24</td>\n",
       "      <td>United</td>\n",
       "      <td>2,026</td>\n",
       "      <td>offthekeyboard</td>\n",
       "    </tr>\n",
       "    <tr>\n",
       "      <th>1</th>\n",
       "      <td>UK English Black Keycap Stickers QWERTY Keyboa...</td>\n",
       "      <td>Brand New</td>\n",
       "      <td>2.30</td>\n",
       "      <td>99.6</td>\n",
       "      <td>+$18.24</td>\n",
       "      <td>United</td>\n",
       "      <td>2,026</td>\n",
       "      <td>offthekeyboard</td>\n",
       "    </tr>\n",
       "    <tr>\n",
       "      <th>2</th>\n",
       "      <td>Rii Mini X1 2.4G Wireless Mini Keyboard with ...</td>\n",
       "      <td>Brand New</td>\n",
       "      <td>15.29</td>\n",
       "      <td>99.0</td>\n",
       "      <td>Free</td>\n",
       "      <td>China</td>\n",
       "      <td>17,326</td>\n",
       "      <td>xsmartbuying</td>\n",
       "    </tr>\n",
       "    <tr>\n",
       "      <th>3</th>\n",
       "      <td>104 Pcs Mechanical Keyboard Keycaps Set OEM Ba...</td>\n",
       "      <td>Brand New</td>\n",
       "      <td>5.99</td>\n",
       "      <td>94.4</td>\n",
       "      <td>+$3.00</td>\n",
       "      <td>China</td>\n",
       "      <td>413</td>\n",
       "      <td>baicaijaa</td>\n",
       "    </tr>\n",
       "    <tr>\n",
       "      <th>4</th>\n",
       "      <td>USB WIRED STYLISH SLIM QWERTY KEYBOARD UK LAYO...</td>\n",
       "      <td>Brand New</td>\n",
       "      <td>8.21</td>\n",
       "      <td>99.2</td>\n",
       "      <td>+$45.01</td>\n",
       "      <td>United</td>\n",
       "      <td>453,971</td>\n",
       "      <td>foido</td>\n",
       "    </tr>\n",
       "  </tbody>\n",
       "</table>\n",
       "</div>"
      ],
      "text/plain": [
       "                                                Name  Condition  Price  \\\n",
       "0  2 x Universal UK Replacement Keyboard Stickers...  Brand New   4.73   \n",
       "1  UK English Black Keycap Stickers QWERTY Keyboa...  Brand New   2.30   \n",
       "2   Rii Mini X1 2.4G Wireless Mini Keyboard with ...  Brand New  15.29   \n",
       "3  104 Pcs Mechanical Keyboard Keycaps Set OEM Ba...  Brand New   5.99   \n",
       "4  USB WIRED STYLISH SLIM QWERTY KEYBOARD UK LAYO...  Brand New   8.21   \n",
       "\n",
       "   Rating Shipping_cost Location   Orders          Seller  \n",
       "0    99.6       +$18.24   United    2,026  offthekeyboard  \n",
       "1    99.6       +$18.24   United    2,026  offthekeyboard  \n",
       "2    99.0          Free    China   17,326    xsmartbuying  \n",
       "3    94.4        +$3.00    China      413       baicaijaa  \n",
       "4    99.2       +$45.01   United  453,971           foido  "
      ]
     },
     "execution_count": 55,
     "metadata": {},
     "output_type": "execute_result"
    }
   ],
   "source": [
    "df.head()"
   ]
  },
  {
   "cell_type": "markdown",
   "id": "dc375bd8",
   "metadata": {},
   "source": [
    "## Cleaning `Shipping_cost` Column"
   ]
  },
  {
   "cell_type": "code",
   "execution_count": 62,
   "id": "a65968cb",
   "metadata": {},
   "outputs": [],
   "source": [
    "df['Shipping_cost'] = df['Shipping_cost'].str.replace('+','')"
   ]
  },
  {
   "cell_type": "code",
   "execution_count": 64,
   "id": "e4cdfaae",
   "metadata": {},
   "outputs": [
    {
     "data": {
      "text/plain": [
       "0      18.24\n",
       "1      18.24\n",
       "2       Free\n",
       "3       3.00\n",
       "4      45.01\n",
       "       ...  \n",
       "955    38.60\n",
       "956     0.08\n",
       "957    80.29\n",
       "958    79.71\n",
       "959    25.87\n",
       "Name: Shipping_cost, Length: 960, dtype: object"
      ]
     },
     "execution_count": 64,
     "metadata": {},
     "output_type": "execute_result"
    }
   ],
   "source": [
    "df['Shipping_cost'] = df['Shipping_cost'].str.replace('$','')\n",
    "df['Shipping_cost']"
   ]
  },
  {
   "cell_type": "code",
   "execution_count": 66,
   "id": "cacef836",
   "metadata": {},
   "outputs": [
    {
     "data": {
      "text/plain": [
       "0      18.24\n",
       "1      18.24\n",
       "2       0.00\n",
       "3       3.00\n",
       "4      45.01\n",
       "       ...  \n",
       "955    38.60\n",
       "956     0.08\n",
       "957    80.29\n",
       "958    79.71\n",
       "959    25.87\n",
       "Name: Shipping_cost, Length: 960, dtype: object"
      ]
     },
     "execution_count": 66,
     "metadata": {},
     "output_type": "execute_result"
    }
   ],
   "source": [
    "df['Shipping_cost'] = df['Shipping_cost'].str.replace('Free','0.00')\n",
    "df['Shipping_cost']"
   ]
  },
  {
   "cell_type": "code",
   "execution_count": 68,
   "id": "c38f43ec",
   "metadata": {},
   "outputs": [
    {
     "data": {
      "text/plain": [
       "0      18.24\n",
       "1      18.24\n",
       "2       0.00\n",
       "3       3.00\n",
       "4      45.01\n",
       "       ...  \n",
       "955    38.60\n",
       "956     0.08\n",
       "957    80.29\n",
       "958    79.71\n",
       "959    25.87\n",
       "Name: Shipping_cost, Length: 960, dtype: object"
      ]
     },
     "execution_count": 68,
     "metadata": {},
     "output_type": "execute_result"
    }
   ],
   "source": [
    "df['Shipping_cost'] = df['Shipping_cost'].str.replace('Shipping','0.00')\n",
    "df['Shipping_cost']"
   ]
  },
  {
   "cell_type": "code",
   "execution_count": 72,
   "id": "2a2dbf85",
   "metadata": {},
   "outputs": [
    {
     "data": {
      "text/plain": [
       "0      18.24\n",
       "1      18.24\n",
       "2       0.00\n",
       "3       3.00\n",
       "4      45.01\n",
       "       ...  \n",
       "955    38.60\n",
       "956     0.08\n",
       "957    80.29\n",
       "958    79.71\n",
       "959    25.87\n",
       "Name: Shipping_cost, Length: 960, dtype: float64"
      ]
     },
     "execution_count": 72,
     "metadata": {},
     "output_type": "execute_result"
    }
   ],
   "source": [
    "df['Shipping_cost'] = pd.to_numeric(df['Shipping_cost'])\n",
    "df['Shipping_cost']"
   ]
  },
  {
   "cell_type": "code",
   "execution_count": 73,
   "id": "5cd3e9d2",
   "metadata": {},
   "outputs": [
    {
     "data": {
      "text/html": [
       "<div>\n",
       "<style scoped>\n",
       "    .dataframe tbody tr th:only-of-type {\n",
       "        vertical-align: middle;\n",
       "    }\n",
       "\n",
       "    .dataframe tbody tr th {\n",
       "        vertical-align: top;\n",
       "    }\n",
       "\n",
       "    .dataframe thead th {\n",
       "        text-align: right;\n",
       "    }\n",
       "</style>\n",
       "<table border=\"1\" class=\"dataframe\">\n",
       "  <thead>\n",
       "    <tr style=\"text-align: right;\">\n",
       "      <th></th>\n",
       "      <th>Price</th>\n",
       "      <th>Rating</th>\n",
       "      <th>Shipping_cost</th>\n",
       "    </tr>\n",
       "  </thead>\n",
       "  <tbody>\n",
       "    <tr>\n",
       "      <th>count</th>\n",
       "      <td>960.000000</td>\n",
       "      <td>960.000000</td>\n",
       "      <td>960.000000</td>\n",
       "    </tr>\n",
       "    <tr>\n",
       "      <th>mean</th>\n",
       "      <td>34.301396</td>\n",
       "      <td>98.283750</td>\n",
       "      <td>34.046844</td>\n",
       "    </tr>\n",
       "    <tr>\n",
       "      <th>std</th>\n",
       "      <td>50.072692</td>\n",
       "      <td>7.969708</td>\n",
       "      <td>33.944657</td>\n",
       "    </tr>\n",
       "    <tr>\n",
       "      <th>min</th>\n",
       "      <td>1.500000</td>\n",
       "      <td>0.000000</td>\n",
       "      <td>0.000000</td>\n",
       "    </tr>\n",
       "    <tr>\n",
       "      <th>25%</th>\n",
       "      <td>9.950000</td>\n",
       "      <td>98.500000</td>\n",
       "      <td>4.810000</td>\n",
       "    </tr>\n",
       "    <tr>\n",
       "      <th>50%</th>\n",
       "      <td>19.990000</td>\n",
       "      <td>99.400000</td>\n",
       "      <td>26.050000</td>\n",
       "    </tr>\n",
       "    <tr>\n",
       "      <th>75%</th>\n",
       "      <td>39.992500</td>\n",
       "      <td>100.000000</td>\n",
       "      <td>58.830000</td>\n",
       "    </tr>\n",
       "    <tr>\n",
       "      <th>max</th>\n",
       "      <td>669.500000</td>\n",
       "      <td>100.000000</td>\n",
       "      <td>247.930000</td>\n",
       "    </tr>\n",
       "  </tbody>\n",
       "</table>\n",
       "</div>"
      ],
      "text/plain": [
       "            Price      Rating  Shipping_cost\n",
       "count  960.000000  960.000000     960.000000\n",
       "mean    34.301396   98.283750      34.046844\n",
       "std     50.072692    7.969708      33.944657\n",
       "min      1.500000    0.000000       0.000000\n",
       "25%      9.950000   98.500000       4.810000\n",
       "50%     19.990000   99.400000      26.050000\n",
       "75%     39.992500  100.000000      58.830000\n",
       "max    669.500000  100.000000     247.930000"
      ]
     },
     "execution_count": 73,
     "metadata": {},
     "output_type": "execute_result"
    }
   ],
   "source": [
    "df.describe()"
   ]
  },
  {
   "cell_type": "code",
   "execution_count": 74,
   "id": "510b22c0",
   "metadata": {},
   "outputs": [
    {
     "data": {
      "text/html": [
       "<div>\n",
       "<style scoped>\n",
       "    .dataframe tbody tr th:only-of-type {\n",
       "        vertical-align: middle;\n",
       "    }\n",
       "\n",
       "    .dataframe tbody tr th {\n",
       "        vertical-align: top;\n",
       "    }\n",
       "\n",
       "    .dataframe thead th {\n",
       "        text-align: right;\n",
       "    }\n",
       "</style>\n",
       "<table border=\"1\" class=\"dataframe\">\n",
       "  <thead>\n",
       "    <tr style=\"text-align: right;\">\n",
       "      <th></th>\n",
       "      <th>Name</th>\n",
       "      <th>Condition</th>\n",
       "      <th>Price</th>\n",
       "      <th>Rating</th>\n",
       "      <th>Shipping_cost</th>\n",
       "      <th>Location</th>\n",
       "      <th>Orders</th>\n",
       "      <th>Seller</th>\n",
       "    </tr>\n",
       "  </thead>\n",
       "  <tbody>\n",
       "    <tr>\n",
       "      <th>0</th>\n",
       "      <td>2 x Universal UK Replacement Keyboard Stickers...</td>\n",
       "      <td>Brand New</td>\n",
       "      <td>4.73</td>\n",
       "      <td>99.6</td>\n",
       "      <td>18.24</td>\n",
       "      <td>United</td>\n",
       "      <td>2,026</td>\n",
       "      <td>offthekeyboard</td>\n",
       "    </tr>\n",
       "    <tr>\n",
       "      <th>1</th>\n",
       "      <td>UK English Black Keycap Stickers QWERTY Keyboa...</td>\n",
       "      <td>Brand New</td>\n",
       "      <td>2.30</td>\n",
       "      <td>99.6</td>\n",
       "      <td>18.24</td>\n",
       "      <td>United</td>\n",
       "      <td>2,026</td>\n",
       "      <td>offthekeyboard</td>\n",
       "    </tr>\n",
       "    <tr>\n",
       "      <th>2</th>\n",
       "      <td>Rii Mini X1 2.4G Wireless Mini Keyboard with ...</td>\n",
       "      <td>Brand New</td>\n",
       "      <td>15.29</td>\n",
       "      <td>99.0</td>\n",
       "      <td>0.00</td>\n",
       "      <td>China</td>\n",
       "      <td>17,326</td>\n",
       "      <td>xsmartbuying</td>\n",
       "    </tr>\n",
       "    <tr>\n",
       "      <th>3</th>\n",
       "      <td>104 Pcs Mechanical Keyboard Keycaps Set OEM Ba...</td>\n",
       "      <td>Brand New</td>\n",
       "      <td>5.99</td>\n",
       "      <td>94.4</td>\n",
       "      <td>3.00</td>\n",
       "      <td>China</td>\n",
       "      <td>413</td>\n",
       "      <td>baicaijaa</td>\n",
       "    </tr>\n",
       "    <tr>\n",
       "      <th>4</th>\n",
       "      <td>USB WIRED STYLISH SLIM QWERTY KEYBOARD UK LAYO...</td>\n",
       "      <td>Brand New</td>\n",
       "      <td>8.21</td>\n",
       "      <td>99.2</td>\n",
       "      <td>45.01</td>\n",
       "      <td>United</td>\n",
       "      <td>453,971</td>\n",
       "      <td>foido</td>\n",
       "    </tr>\n",
       "  </tbody>\n",
       "</table>\n",
       "</div>"
      ],
      "text/plain": [
       "                                                Name  Condition  Price  \\\n",
       "0  2 x Universal UK Replacement Keyboard Stickers...  Brand New   4.73   \n",
       "1  UK English Black Keycap Stickers QWERTY Keyboa...  Brand New   2.30   \n",
       "2   Rii Mini X1 2.4G Wireless Mini Keyboard with ...  Brand New  15.29   \n",
       "3  104 Pcs Mechanical Keyboard Keycaps Set OEM Ba...  Brand New   5.99   \n",
       "4  USB WIRED STYLISH SLIM QWERTY KEYBOARD UK LAYO...  Brand New   8.21   \n",
       "\n",
       "   Rating  Shipping_cost Location   Orders          Seller  \n",
       "0    99.6          18.24   United    2,026  offthekeyboard  \n",
       "1    99.6          18.24   United    2,026  offthekeyboard  \n",
       "2    99.0           0.00    China   17,326    xsmartbuying  \n",
       "3    94.4           3.00    China      413       baicaijaa  \n",
       "4    99.2          45.01   United  453,971           foido  "
      ]
     },
     "execution_count": 74,
     "metadata": {},
     "output_type": "execute_result"
    }
   ],
   "source": [
    "df.head()"
   ]
  },
  {
   "cell_type": "markdown",
   "id": "ba838c54",
   "metadata": {},
   "source": [
    "## Cleaning `Orders` Column"
   ]
  },
  {
   "cell_type": "code",
   "execution_count": 77,
   "id": "988fd927",
   "metadata": {},
   "outputs": [
    {
     "data": {
      "text/plain": [
       "0        2026\n",
       "1        2026\n",
       "2       17326\n",
       "3         413\n",
       "4      453971\n",
       "        ...  \n",
       "955      7831\n",
       "956     63793\n",
       "957       462\n",
       "958      3400\n",
       "959      5113\n",
       "Name: Orders, Length: 960, dtype: object"
      ]
     },
     "execution_count": 77,
     "metadata": {},
     "output_type": "execute_result"
    }
   ],
   "source": [
    "df['Orders'] = df['Orders'].str.replace(',','')\n",
    "df['Orders']"
   ]
  },
  {
   "cell_type": "code",
   "execution_count": 79,
   "id": "7e3f1960",
   "metadata": {},
   "outputs": [
    {
     "data": {
      "text/plain": [
       "0        2026\n",
       "1        2026\n",
       "2       17326\n",
       "3         413\n",
       "4      453971\n",
       "        ...  \n",
       "955      7831\n",
       "956     63793\n",
       "957       462\n",
       "958      3400\n",
       "959      5113\n",
       "Name: Orders, Length: 960, dtype: int64"
      ]
     },
     "execution_count": 79,
     "metadata": {},
     "output_type": "execute_result"
    }
   ],
   "source": [
    "df['Orders'] = pd.to_numeric(df['Orders'])\n",
    "df['Orders']"
   ]
  },
  {
   "cell_type": "code",
   "execution_count": 80,
   "id": "4821b64b",
   "metadata": {},
   "outputs": [
    {
     "data": {
      "text/html": [
       "<div>\n",
       "<style scoped>\n",
       "    .dataframe tbody tr th:only-of-type {\n",
       "        vertical-align: middle;\n",
       "    }\n",
       "\n",
       "    .dataframe tbody tr th {\n",
       "        vertical-align: top;\n",
       "    }\n",
       "\n",
       "    .dataframe thead th {\n",
       "        text-align: right;\n",
       "    }\n",
       "</style>\n",
       "<table border=\"1\" class=\"dataframe\">\n",
       "  <thead>\n",
       "    <tr style=\"text-align: right;\">\n",
       "      <th></th>\n",
       "      <th>Price</th>\n",
       "      <th>Rating</th>\n",
       "      <th>Shipping_cost</th>\n",
       "      <th>Orders</th>\n",
       "    </tr>\n",
       "  </thead>\n",
       "  <tbody>\n",
       "    <tr>\n",
       "      <th>count</th>\n",
       "      <td>960.000000</td>\n",
       "      <td>960.000000</td>\n",
       "      <td>960.000000</td>\n",
       "      <td>960.000000</td>\n",
       "    </tr>\n",
       "    <tr>\n",
       "      <th>mean</th>\n",
       "      <td>34.301396</td>\n",
       "      <td>98.283750</td>\n",
       "      <td>34.046844</td>\n",
       "      <td>21854.989583</td>\n",
       "    </tr>\n",
       "    <tr>\n",
       "      <th>std</th>\n",
       "      <td>50.072692</td>\n",
       "      <td>7.969708</td>\n",
       "      <td>33.944657</td>\n",
       "      <td>72367.964787</td>\n",
       "    </tr>\n",
       "    <tr>\n",
       "      <th>min</th>\n",
       "      <td>1.500000</td>\n",
       "      <td>0.000000</td>\n",
       "      <td>0.000000</td>\n",
       "      <td>0.000000</td>\n",
       "    </tr>\n",
       "    <tr>\n",
       "      <th>25%</th>\n",
       "      <td>9.950000</td>\n",
       "      <td>98.500000</td>\n",
       "      <td>4.810000</td>\n",
       "      <td>370.000000</td>\n",
       "    </tr>\n",
       "    <tr>\n",
       "      <th>50%</th>\n",
       "      <td>19.990000</td>\n",
       "      <td>99.400000</td>\n",
       "      <td>26.050000</td>\n",
       "      <td>2026.000000</td>\n",
       "    </tr>\n",
       "    <tr>\n",
       "      <th>75%</th>\n",
       "      <td>39.992500</td>\n",
       "      <td>100.000000</td>\n",
       "      <td>58.830000</td>\n",
       "      <td>13588.000000</td>\n",
       "    </tr>\n",
       "    <tr>\n",
       "      <th>max</th>\n",
       "      <td>669.500000</td>\n",
       "      <td>100.000000</td>\n",
       "      <td>247.930000</td>\n",
       "      <td>978001.000000</td>\n",
       "    </tr>\n",
       "  </tbody>\n",
       "</table>\n",
       "</div>"
      ],
      "text/plain": [
       "            Price      Rating  Shipping_cost         Orders\n",
       "count  960.000000  960.000000     960.000000     960.000000\n",
       "mean    34.301396   98.283750      34.046844   21854.989583\n",
       "std     50.072692    7.969708      33.944657   72367.964787\n",
       "min      1.500000    0.000000       0.000000       0.000000\n",
       "25%      9.950000   98.500000       4.810000     370.000000\n",
       "50%     19.990000   99.400000      26.050000    2026.000000\n",
       "75%     39.992500  100.000000      58.830000   13588.000000\n",
       "max    669.500000  100.000000     247.930000  978001.000000"
      ]
     },
     "execution_count": 80,
     "metadata": {},
     "output_type": "execute_result"
    }
   ],
   "source": [
    "df.describe()"
   ]
  },
  {
   "cell_type": "markdown",
   "id": "44eb1df4",
   "metadata": {},
   "source": [
    "# Analysing Data"
   ]
  },
  {
   "cell_type": "markdown",
   "id": "30f69522",
   "metadata": {},
   "source": [
    "## Sellers with most products"
   ]
  },
  {
   "cell_type": "code",
   "execution_count": 178,
   "id": "bde99ee2",
   "metadata": {},
   "outputs": [
    {
     "data": {
      "text/plain": [
       "<Axes: >"
      ]
     },
     "execution_count": 178,
     "metadata": {},
     "output_type": "execute_result"
    },
    {
     "data": {
      "image/png": "[encoded data removed]",
      "text/plain": [
       "<Figure size 1000x600 with 1 Axes>"
      ]
     },
     "metadata": {},
     "output_type": "display_data"
    }
   ],
   "source": [
    "df['Seller'].value_counts()[:15].plot(kind='bar',color='c',figsize=(10,6))"
   ]
  },
  {
   "cell_type": "markdown",
   "id": "397d0d07",
   "metadata": {},
   "source": [
    "## Country wise Products"
   ]
  },
  {
   "cell_type": "code",
   "execution_count": 103,
   "id": "36636c52",
   "metadata": {},
   "outputs": [
    {
     "data": {
      "text/plain": [
       "<Axes: >"
      ]
     },
     "execution_count": 103,
     "metadata": {},
     "output_type": "execute_result"
    },
    {
     "data": {
      "image/png": "[encoded data removed]",
      "text/plain": [
       "<Figure size 1000x500 with 1 Axes>"
      ]
     },
     "metadata": {},
     "output_type": "display_data"
    }
   ],
   "source": [
    "df['Location'].value_counts()[:5].plot(kind='bar',figsize=(10,5))"
   ]
  },
  {
   "cell_type": "markdown",
   "id": "a7901d17",
   "metadata": {},
   "source": [
    "## Condition of Products"
   ]
  },
  {
   "cell_type": "code",
   "execution_count": 170,
   "id": "f9d8c40a",
   "metadata": {},
   "outputs": [
    {
     "data": {
      "text/plain": [
       "<Axes: >"
      ]
     },
     "execution_count": 170,
     "metadata": {},
     "output_type": "execute_result"
    },
    {
     "data": {
      "image/png": "[encoded data removed]",
      "text/plain": [
       "<Figure size 1000x500 with 1 Axes>"
      ]
     },
     "metadata": {},
     "output_type": "display_data"
    }
   ],
   "source": [
    "df['Condition'].value_counts().plot(kind='bar',figsize=(10,5))"
   ]
  },
  {
   "cell_type": "markdown",
   "id": "c46d9a47",
   "metadata": {},
   "source": [
    "## Products with 99%+ Ratings"
   ]
  },
  {
   "cell_type": "code",
   "execution_count": 173,
   "id": "17472a4e",
   "metadata": {
    "scrolled": true
   },
   "outputs": [
    {
     "data": {
      "text/plain": [
       "100.0    310\n",
       "99.6      71\n",
       "99.0      55\n",
       "99.2      36\n",
       "99.4      35\n",
       "99.1      30\n",
       "98.5      28\n",
       "Name: Rating, dtype: int64"
      ]
     },
     "execution_count": 173,
     "metadata": {},
     "output_type": "execute_result"
    }
   ],
   "source": [
    "x = df['Rating'].value_counts().sort_values(ascending=False)\n",
    "x.head(7)"
   ]
  },
  {
   "cell_type": "code",
   "execution_count": 174,
   "id": "4e525d99",
   "metadata": {},
   "outputs": [
    {
     "data": {
      "image/png": "[encoded data removed]",
      "text/plain": [
       "<Figure size 640x480 with 1 Axes>"
      ]
     },
     "metadata": {},
     "output_type": "display_data"
    }
   ],
   "source": [
    "palette_color = sn.color_palette('bright')\n",
    "explode = (0.03, 0.03, 0.03, 0.03,0.03,0.03)\n",
    "plt.pie(x.head(6),explode=explode,colors=palette_color, labels = [100,99.6,99.5,99.4,99.2,99.1],\n",
    "        autopct = '%1.1f%%',\n",
    "        startangle = 90)\n",
    "plt.axis('equal')\n",
    "plt.show()"
   ]
  },
  {
   "cell_type": "code",
   "execution_count": 166,
   "id": "7b75ac08",
   "metadata": {},
   "outputs": [
    {
     "data": {
      "text/html": [
       "<div>\n",
       "<style scoped>\n",
       "    .dataframe tbody tr th:only-of-type {\n",
       "        vertical-align: middle;\n",
       "    }\n",
       "\n",
       "    .dataframe tbody tr th {\n",
       "        vertical-align: top;\n",
       "    }\n",
       "\n",
       "    .dataframe thead th {\n",
       "        text-align: right;\n",
       "    }\n",
       "</style>\n",
       "<table border=\"1\" class=\"dataframe\">\n",
       "  <thead>\n",
       "    <tr style=\"text-align: right;\">\n",
       "      <th></th>\n",
       "      <th>Name</th>\n",
       "      <th>Condition</th>\n",
       "      <th>Price</th>\n",
       "      <th>Rating</th>\n",
       "      <th>Shipping_cost</th>\n",
       "      <th>Location</th>\n",
       "      <th>Orders</th>\n",
       "      <th>Seller</th>\n",
       "    </tr>\n",
       "  </thead>\n",
       "  <tbody>\n",
       "    <tr>\n",
       "      <th>0</th>\n",
       "      <td>2 x Universal UK Replacement Keyboard Stickers...</td>\n",
       "      <td>Brand New</td>\n",
       "      <td>4.73</td>\n",
       "      <td>99.6</td>\n",
       "      <td>18.24</td>\n",
       "      <td>United</td>\n",
       "      <td>2026</td>\n",
       "      <td>offthekeyboard</td>\n",
       "    </tr>\n",
       "    <tr>\n",
       "      <th>1</th>\n",
       "      <td>UK English Black Keycap Stickers QWERTY Keyboa...</td>\n",
       "      <td>Brand New</td>\n",
       "      <td>2.30</td>\n",
       "      <td>99.6</td>\n",
       "      <td>18.24</td>\n",
       "      <td>United</td>\n",
       "      <td>2026</td>\n",
       "      <td>offthekeyboard</td>\n",
       "    </tr>\n",
       "    <tr>\n",
       "      <th>2</th>\n",
       "      <td>Rii Mini X1 2.4G Wireless Mini Keyboard with ...</td>\n",
       "      <td>Brand New</td>\n",
       "      <td>15.29</td>\n",
       "      <td>99.0</td>\n",
       "      <td>0.00</td>\n",
       "      <td>China</td>\n",
       "      <td>17326</td>\n",
       "      <td>xsmartbuying</td>\n",
       "    </tr>\n",
       "    <tr>\n",
       "      <th>3</th>\n",
       "      <td>104 Pcs Mechanical Keyboard Keycaps Set OEM Ba...</td>\n",
       "      <td>Brand New</td>\n",
       "      <td>5.99</td>\n",
       "      <td>94.4</td>\n",
       "      <td>3.00</td>\n",
       "      <td>China</td>\n",
       "      <td>413</td>\n",
       "      <td>baicaijaa</td>\n",
       "    </tr>\n",
       "    <tr>\n",
       "      <th>4</th>\n",
       "      <td>USB WIRED STYLISH SLIM QWERTY KEYBOARD UK LAYO...</td>\n",
       "      <td>Brand New</td>\n",
       "      <td>8.21</td>\n",
       "      <td>99.2</td>\n",
       "      <td>45.01</td>\n",
       "      <td>United</td>\n",
       "      <td>453971</td>\n",
       "      <td>foido</td>\n",
       "    </tr>\n",
       "  </tbody>\n",
       "</table>\n",
       "</div>"
      ],
      "text/plain": [
       "                                                Name  Condition  Price  \\\n",
       "0  2 x Universal UK Replacement Keyboard Stickers...  Brand New   4.73   \n",
       "1  UK English Black Keycap Stickers QWERTY Keyboa...  Brand New   2.30   \n",
       "2   Rii Mini X1 2.4G Wireless Mini Keyboard with ...  Brand New  15.29   \n",
       "3  104 Pcs Mechanical Keyboard Keycaps Set OEM Ba...  Brand New   5.99   \n",
       "4  USB WIRED STYLISH SLIM QWERTY KEYBOARD UK LAYO...  Brand New   8.21   \n",
       "\n",
       "   Rating  Shipping_cost Location  Orders          Seller  \n",
       "0    99.6          18.24   United    2026  offthekeyboard  \n",
       "1    99.6          18.24   United    2026  offthekeyboard  \n",
       "2    99.0           0.00    China   17326    xsmartbuying  \n",
       "3    94.4           3.00    China     413       baicaijaa  \n",
       "4    99.2          45.01   United  453971           foido  "
      ]
     },
     "execution_count": 166,
     "metadata": {},
     "output_type": "execute_result"
    }
   ],
   "source": [
    "df.head()"
   ]
  },
  {
   "cell_type": "code",
   "execution_count": null,
   "id": "a8109340",
   "metadata": {},
   "outputs": [],
   "source": []
  }
 ],
 "metadata": {
  "kernelspec": {
   "display_name": "Python 3 (ipykernel)",
   "language": "python",
   "name": "python3"
  },
  "language_info": {
   "codemirror_mode": {
    "name": "ipython",
    "version": 3
   },
   "file_extension": ".py",
   "mimetype": "text/x-python",
   "name": "python",
   "nbconvert_exporter": "python",
   "pygments_lexer": "ipython3",
   "version": "3.10.9"
  }
 },
 "nbformat": 4,
 "nbformat_minor": 5
}
